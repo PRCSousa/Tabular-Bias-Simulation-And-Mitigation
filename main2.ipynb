{
 "cells": [
  {
   "cell_type": "code",
   "execution_count": 1,
   "metadata": {},
   "outputs": [],
   "source": [
    "import sklearn\n",
    "import fairlearn\n",
    "import pandas as pd\n",
    "import matplotlib"
   ]
  },
  {
   "cell_type": "code",
   "execution_count": 46,
   "metadata": {},
   "outputs": [],
   "source": [
    "base = \"AI-Bias-Mitigation-And-Fairness-main/data/high_hist_bias/\"\n",
    "X_test = pd.read_csv(base +'X_test.csv')\n",
    "X_train = pd.read_csv(base +'X_train.csv')\n",
    "y_test = pd.read_csv(base +'y_test.csv')\n",
    "y_train = pd.read_csv(base +'y_train.csv')"
   ]
  },
  {
   "cell_type": "code",
   "execution_count": 47,
   "metadata": {},
   "outputs": [
    {
     "name": "stdout",
     "output_type": "stream",
     "text": [
      "Accuracy: 0.9757575757575757\n"
     ]
    }
   ],
   "source": [
    "from sklearn.tree import DecisionTreeClassifier\n",
    "from sklearn.metrics import accuracy_score\n",
    "\n",
    "# Create a decision tree classifier\n",
    "clf = DecisionTreeClassifier()\n",
    "\n",
    "# Train the classifier on the training data\n",
    "clf.fit(X_train, y_train)\n",
    "\n",
    "# Predict the labels for the test set\n",
    "y_pred = clf.predict(X_test)\n",
    "\n",
    "# Calculate the accuracy of the model\n",
    "accuracy = accuracy_score(y_test, y_pred)\n",
    "print(f'Accuracy: {accuracy}')"
   ]
  },
  {
   "cell_type": "code",
   "execution_count": 56,
   "metadata": {},
   "outputs": [
    {
     "name": "stdout",
     "output_type": "stream",
     "text": [
      "-0.0017488076311605871\n",
      "-0.00015822784810126667\n",
      "-0.00015822784810126667\n"
     ]
    }
   ],
   "source": [
    "from aif360.sklearn.metrics import equal_opportunity_difference\n",
    "\n",
    "print(equal_opportunity_difference(y_test, y_pred, prot_attr=X_test['A1']))\n",
    "print(equal_opportunity_difference(y_test, y_pred, prot_attr=X_test['A2']))\n",
    "print(equal_opportunity_difference(y_test, y_pred, prot_attr=X_test['A3']))"
   ]
  },
  {
   "cell_type": "code",
   "execution_count": null,
   "metadata": {},
   "outputs": [
    {
     "name": "stdout",
     "output_type": "stream",
     "text": [
      "1.0\n",
      "0.06896551724137931\n",
      "0.015789473684210527\n",
      "0.002053669222343922\n",
      "1.0\n",
      "1.0\n"
     ]
    }
   ],
   "source": [
    "from fairlearn import metrics\n",
    "\n",
    "print(metrics.equalized_odds_difference(y_test, y_pred, sensitive_features=X_test['A1']))\n",
    "print(metrics.equalized_odds_difference(y_test, y_pred, sensitive_features=X_test['A2']))\n",
    "print(metrics.equalized_odds_difference(y_test, y_pred, sensitive_features=X_test['A3']))\n",
    "print(metrics.equalized_odds_difference(y_test, y_pred, sensitive_features=X_test['Q1']))\n",
    "print(metrics.equalized_odds_difference(y_test, y_pred, sensitive_features=X_test['Q2']))"
   ]
  },
  {
   "cell_type": "code",
   "execution_count": 53,
   "metadata": {},
   "outputs": [
    {
     "name": "stdout",
     "output_type": "stream",
     "text": [
      "-0.06123049749779219\n",
      "-0.04796640141467734\n",
      "0.011904761904761918\n",
      "nan\n",
      "nan\n"
     ]
    },
    {
     "name": "stderr",
     "output_type": "stream",
     "text": [
      "c:\\Users\\migan\\Desktop\\2024-2025\\MS\\.venv\\Lib\\site-packages\\numpy\\lib\\function_base.py:520: RuntimeWarning: Mean of empty slice.\n",
      "  avg = a.mean(axis, **keepdims_kw)\n",
      "c:\\Users\\migan\\Desktop\\2024-2025\\MS\\.venv\\Lib\\site-packages\\numpy\\core\\_methods.py:129: RuntimeWarning: invalid value encountered in scalar divide\n",
      "  ret = ret.dtype.type(ret / rcount)\n",
      "c:\\Users\\migan\\Desktop\\2024-2025\\MS\\.venv\\Lib\\site-packages\\numpy\\lib\\function_base.py:520: RuntimeWarning: Mean of empty slice.\n",
      "  avg = a.mean(axis, **keepdims_kw)\n",
      "c:\\Users\\migan\\Desktop\\2024-2025\\MS\\.venv\\Lib\\site-packages\\numpy\\core\\_methods.py:129: RuntimeWarning: invalid value encountered in scalar divide\n",
      "  ret = ret.dtype.type(ret / rcount)\n"
     ]
    }
   ],
   "source": [
    "from aif360.sklearn.metrics import statistical_parity_difference\n",
    "\n",
    "print(statistical_parity_difference(y_test, y_pred, prot_attr=X_test['A1']))\n",
    "print(statistical_parity_difference(y_test, y_pred, prot_attr=X_test['A2']))\n",
    "print(statistical_parity_difference(y_test, y_pred, prot_attr=X_test['A3']))\n",
    "print(statistical_parity_difference(y_test, y_pred, prot_attr=X_test['Q1']))\n",
    "print(statistical_parity_difference(y_test, y_pred, prot_attr=X_test['Q2']))\n"
   ]
  },
  {
   "cell_type": "code",
   "execution_count": 57,
   "metadata": {},
   "outputs": [
    {
     "name": "stdout",
     "output_type": "stream",
     "text": [
      "0.8829817158931083\n",
      "0.9076202639421029\n",
      "1.024390243902439\n",
      "nan\n",
      "nan\n"
     ]
    },
    {
     "name": "stderr",
     "output_type": "stream",
     "text": [
      "c:\\Users\\migan\\Desktop\\2024-2025\\MS\\.venv\\Lib\\site-packages\\numpy\\lib\\function_base.py:520: RuntimeWarning: Mean of empty slice.\n",
      "  avg = a.mean(axis, **keepdims_kw)\n",
      "c:\\Users\\migan\\Desktop\\2024-2025\\MS\\.venv\\Lib\\site-packages\\numpy\\core\\_methods.py:129: RuntimeWarning: invalid value encountered in scalar divide\n",
      "  ret = ret.dtype.type(ret / rcount)\n",
      "c:\\Users\\migan\\Desktop\\2024-2025\\MS\\.venv\\Lib\\site-packages\\numpy\\lib\\function_base.py:520: RuntimeWarning: Mean of empty slice.\n",
      "  avg = a.mean(axis, **keepdims_kw)\n",
      "c:\\Users\\migan\\Desktop\\2024-2025\\MS\\.venv\\Lib\\site-packages\\numpy\\core\\_methods.py:129: RuntimeWarning: invalid value encountered in scalar divide\n",
      "  ret = ret.dtype.type(ret / rcount)\n"
     ]
    }
   ],
   "source": [
    "from aif360.sklearn.metrics import disparate_impact_ratio\n",
    "\n",
    "print(disparate_impact_ratio(y_test, y_pred, prot_attr=X_test['A1']))\n",
    "print(disparate_impact_ratio(y_test, y_pred, prot_attr=X_test['A2']))\n",
    "print(disparate_impact_ratio(y_test, y_pred, prot_attr=X_test['A3']))\n",
    "print(disparate_impact_ratio(y_test, y_pred, prot_attr=X_test['Q1']))\n",
    "print(disparate_impact_ratio(y_test, y_pred, prot_attr=X_test['Q2']))"
   ]
  },
  {
   "cell_type": "code",
   "execution_count": null,
   "metadata": {},
   "outputs": [],
   "source": [
    "from aif360.sklearn.metrics import theil_index\n",
    "\n",
    "print(theil_index(X_test['A1']))\n",
    "print(theil_index(X_test['A2']))\n",
    "print(theil_index(X_test['A3']))\n",
    "print(theil_index(X_test['Q1']))\n",
    "print(theil_index(X_test['Q2']))"
   ]
  }
 ],
 "metadata": {
  "kernelspec": {
   "display_name": ".venv",
   "language": "python",
   "name": "python3"
  },
  "language_info": {
   "codemirror_mode": {
    "name": "ipython",
    "version": 3
   },
   "file_extension": ".py",
   "mimetype": "text/x-python",
   "name": "python",
   "nbconvert_exporter": "python",
   "pygments_lexer": "ipython3",
   "version": "3.11.9"
  }
 },
 "nbformat": 4,
 "nbformat_minor": 2
}
